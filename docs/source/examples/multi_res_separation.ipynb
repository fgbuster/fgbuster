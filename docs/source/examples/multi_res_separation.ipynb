{
 "cells": [
  {
   "cell_type": "markdown",
   "metadata": {},
   "source": [
    "# Multi-resolution separation"
   ]
  },
  {
   "cell_type": "code",
   "execution_count": null,
   "metadata": {},
   "outputs": [],
   "source": [
    "%load_ext autoreload\n",
    "%autoreload 2\n",
    "%matplotlib inline\n",
    "\n",
    "import numpy as np\n",
    "import pylab\n",
    "pylab.rcParams['figure.figsize'] = 12, 16\n",
    "\n",
    "import healpy as hp\n",
    "import pysm\n",
    "import pysm.units as u\n",
    "\n",
    "from fgbuster import get_instrument, get_sky, get_observation  # Predefined instrumental and sky-creation configurations\n",
    "import fgbuster.separation_recipes as sr\n",
    "from fgbuster.visualization import corner_norm\n",
    "\n",
    "# Imports needed for component separation\n",
    "from fgbuster import (CMB, Dust, Synchrotron,  # sky-fitting model\n",
    "                      MixingMatrix)  # separation routine"
   ]
  },
  {
   "cell_type": "code",
   "execution_count": null,
   "metadata": {},
   "outputs": [],
   "source": [
    "\n",
    "import numpy as np\n",
    "\n",
    "import healpy as hp\n",
    "import pysm\n",
    "\n",
    "from fgbuster.observation_helpers import get_instrument, get_sky\n",
    "from fgbuster import CMB, Dust, Synchrotron, MixingMatrix\n",
    "import fgbuster.separation_recipes as sr"
   ]
  },
  {
   "cell_type": "markdown",
   "metadata": {},
   "source": [
    "From more basic examples you know that `basic_comp_sep` allows you to tile the sky in healpix pixels at a given `nside` and perform the fit of the spectral parameters independently for each tile. However, you potentially want to fit different parameters at different resolutions. You can achieve this with the `multi_res_comp_sep` utility function in `separation_recipes`. Here is an example of how it works."
   ]
  },
  {
   "cell_type": "markdown",
   "metadata": {},
   "source": [
    "## Simulate your frequency maps"
   ]
  },
  {
   "cell_type": "code",
   "execution_count": null,
   "metadata": {
    "scrolled": true
   },
   "outputs": [],
   "source": [
    "nside = 8\n",
    "sky = get_sky(nside, 'c1d0s0')\n",
    "instrument = get_instrument('LiteBIRD')\n",
    "freq_maps = get_observation(instrument, sky)\n",
    "freq_maps = freq_maps[:, 1:]  # Select polarization"
   ]
  },
  {
   "cell_type": "markdown",
   "metadata": {},
   "source": [
    "## Define what you fit for\n",
    "Create your sky model as a list of components"
   ]
  },
  {
   "cell_type": "code",
   "execution_count": null,
   "metadata": {},
   "outputs": [],
   "source": [
    "components = [CMB(), Dust(353.), Synchrotron(23., running=None, nu_pivot=70.)]"
   ]
  },
  {
   "cell_type": "code",
   "execution_count": null,
   "metadata": {},
   "outputs": [],
   "source": [
    "for comp in components:\n",
    "    comp.defaults = [d*1.05 for d in comp.defaults] "
   ]
  },
  {
   "cell_type": "markdown",
   "metadata": {},
   "source": [
    "## Component separation\n",
    "`multi_res_comp_sep` has almost the same signature of `basic_comp_sep`. The only difference is the `nside` parameter, which becomes `nsides`. It is no longer an integer but a list of integers, each specifying the resolution of a parameters."
   ]
  },
  {
   "cell_type": "code",
   "execution_count": null,
   "metadata": {},
   "outputs": [],
   "source": [
    "nsides = [4, 1, 2, 0]"
   ]
  },
  {
   "cell_type": "markdown",
   "metadata": {},
   "source": [
    "Which means that"
   ]
  },
  {
   "cell_type": "code",
   "execution_count": null,
   "metadata": {},
   "outputs": [],
   "source": [
    "for nside, param in zip(nsides, MixingMatrix(*components).params):\n",
    "    print(f\"{param} is fitted for at nside {nside}\")"
   ]
  },
  {
   "cell_type": "code",
   "execution_count": null,
   "metadata": {
    "scrolled": true
   },
   "outputs": [],
   "source": [
    "result = sr.multi_res_comp_sep(components, instrument, freq_maps, nsides=nsides)#, method='L-BFGS-B', options=dict(disp=True))                                                                                                                ))"
   ]
  },
  {
   "cell_type": "markdown",
   "metadata": {},
   "source": [
    "Note that all the parameters are fitted simultaneously. This makes the maximization of the likelihood substantially more difficult. Consider tuning the parameters of the minimizer [``scipy.optimize.minimize``](https://docs.scipy.org/doc/scipy/reference/generated/scipy.optimize.minimize.html)"
   ]
  },
  {
   "cell_type": "markdown",
   "metadata": {},
   "source": [
    "## Explore the results\n",
    "Unlike `basic_comp_sep`, `res.x` is now a list — since the maps have different resolutions you can not stack them in an `ndarray` — but you access the maps of each parameters in the same way. "
   ]
  },
  {
   "cell_type": "code",
   "execution_count": null,
   "metadata": {},
   "outputs": [],
   "source": [
    "for par_x, par in zip(result.x, result.params):\n",
    "    if len(par_x)>1:\n",
    "        hp.mollview(par_x, title=par)\n",
    "    else:\n",
    "        print(par, par_x[0])"
   ]
  },
  {
   "cell_type": "markdown",
   "metadata": {},
   "source": [
    "\n",
    "\n",
    "The amplitudes of the components are stacked in the ``s`` attribute and they are in the same format of the input frequency maps: Q and U healpix maps, in this case."
   ]
  },
  {
   "cell_type": "code",
   "execution_count": null,
   "metadata": {},
   "outputs": [],
   "source": [
    "hp.mollview(result.s[0,0], title='CMB Q out', sub=(1, 3, 1))\n",
    "hp.mollview(sky.components[0].map[1].value, title='CMB Q in', sub=(1, 3, 2))\n",
    "hp.mollview(result.s[0,0] - sky.components[0].map[1].value, title='CMB Q diff', sub=(1, 3, 3))"
   ]
  },
  {
   "cell_type": "code",
   "execution_count": null,
   "metadata": {},
   "outputs": [],
   "source": [
    "ref = sky.components[1].Q_ref.to(u.uK_CMB, equivalencies=u.cmb_equivalencies(sky.components[1].freq_ref_P)).value\n",
    "hp.mollview(result.s[1, 0], title='Dust Q out', sub=(1, 3, 1))\n",
    "hp.mollview(ref, title='Dust Q in', sub=(1, 3, 2))\n",
    "hp.mollview(result.s[1, 0] - ref, title='Dust Q diff', sub=(1, 3, 3))"
   ]
  },
  {
   "cell_type": "code",
   "execution_count": null,
   "metadata": {},
   "outputs": [],
   "source": [
    "ref = sky.components[2].Q_ref.to(u.uK_CMB, equivalencies=u.cmb_equivalencies(sky.components[2].freq_ref_P)).value\n",
    "hp.mollview(result.s[2, 0], title='Dust Q out', sub=(1, 3, 1))\n",
    "hp.mollview(ref, title='Dust Q in', sub=(1, 3, 2))\n",
    "hp.mollview(result.s[2, 0] - ref, title='Dust Q diff', sub=(1, 3, 3))"
   ]
  }
 ],
 "metadata": {
  "kernelspec": {
   "display_name": "Python 3",
   "language": "python",
   "name": "python3"
  },
  "language_info": {
   "codemirror_mode": {
    "name": "ipython",
    "version": 3
   },
   "file_extension": ".py",
   "mimetype": "text/x-python",
   "name": "python",
   "nbconvert_exporter": "python",
   "pygments_lexer": "ipython3",
   "version": "3.7.6"
  }
 },
 "nbformat": 4,
 "nbformat_minor": 4
}
