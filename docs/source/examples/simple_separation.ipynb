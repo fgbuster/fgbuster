{
 "cells": [
  {
   "cell_type": "markdown",
   "metadata": {},
   "source": [
    "# Simple component separation"
   ]
  },
  {
   "cell_type": "code",
   "execution_count": null,
   "metadata": {},
   "outputs": [],
   "source": [
    "%load_ext autoreload\n",
    "%autoreload 2\n",
    "%matplotlib inline\n",
    "\n",
    "import healpy as hp\n",
    "import pysm\n",
    "\n",
    "from fgbuster.observation_helpers import get_instrument, get_sky\n",
    "from fgbuster.component_model import CMB, Dust, Synchrotron\n",
    "from fgbuster.separation_recipes import basic_comp_sep\n",
    "from fgbuster.visualization import corner_norm"
   ]
  },
  {
   "cell_type": "markdown",
   "metadata": {},
   "source": [
    "## Simulate your frequency maps\n",
    "You have some frequecy maps to clean, they can be either data or simulations. For example, you can use `pysm` to simulate microwave skys with different complexities. ForeGroundBuster adds a couple of functions that make the process even easier."
   ]
  },
  {
   "cell_type": "code",
   "execution_count": null,
   "metadata": {},
   "outputs": [],
   "source": [
    "nside = 32\n",
    "sky = pysm.Sky(get_sky(nside, 'c1d0s0'))\n",
    "instrument = pysm.Instrument(get_instrument('litebird', nside))\n",
    "freq_maps = instrument.observe(sky, write_outputs=False)[0]\n",
    "freq_maps = freq_maps[:, 1:]  # Select polarization"
   ]
  },
  {
   "cell_type": "markdown",
   "metadata": {},
   "source": [
    "## Define what you fit for\n",
    "Create your sky model as a list of components"
   ]
  },
  {
   "cell_type": "code",
   "execution_count": null,
   "metadata": {},
   "outputs": [],
   "source": [
    "components = [CMB(), Dust(150.), Synchrotron(20.)]"
   ]
  },
  {
   "cell_type": "markdown",
   "metadata": {},
   "source": [
    "## Component separation\n",
    "The tools inside ForeGroundBuster allow for very flexible and diverse component separation approaches. However, we also provide a set of predefined function that perform component separation out of the box. They suit most common use cases."
   ]
  },
  {
   "cell_type": "code",
   "execution_count": null,
   "metadata": {
    "scrolled": true
   },
   "outputs": [],
   "source": [
    "result = basic_comp_sep(components, instrument, freq_maps)"
   ]
  },
  {
   "cell_type": "markdown",
   "metadata": {},
   "source": [
    "## Explore the results\n",
    "You have just solved for both the spectral parameters of your components and their amplitudes.\n",
    "\n",
    "Get the spectral parameters name and values with"
   ]
  },
  {
   "cell_type": "code",
   "execution_count": null,
   "metadata": {},
   "outputs": [],
   "source": [
    "print(result.params)\n",
    "print(result.x)"
   ]
  },
  {
   "cell_type": "markdown",
   "metadata": {},
   "source": [
    "You can also have a look at their semi-analytic covariance, but remember that it is accurate only the high signal-to-noise regime"
   ]
  },
  {
   "cell_type": "code",
   "execution_count": null,
   "metadata": {},
   "outputs": [],
   "source": [
    "corner_norm(result.x, result.Sigma, labels=result.params)"
   ]
  },
  {
   "cell_type": "markdown",
   "metadata": {},
   "source": [
    "The amplitudes of the components are stacked in the ``s`` attribute and they are in the same format of the input frequency maps: Q and U healpix maps, in this case."
   ]
  },
  {
   "cell_type": "code",
   "execution_count": null,
   "metadata": {},
   "outputs": [],
   "source": [
    "hp.mollview(result.s[0,1], title='CMB')\n",
    "hp.mollview(result.s[1,1], title='Dust', norm='hist')\n",
    "hp.mollview(result.s[2,1], title='Synchrotron', norm='hist')"
   ]
  }
 ],
 "metadata": {},
 "nbformat": 4,
 "nbformat_minor": 2
}
