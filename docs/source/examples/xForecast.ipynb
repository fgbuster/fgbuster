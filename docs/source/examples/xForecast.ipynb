{
 "cells": [
  {
   "cell_type": "markdown",
   "metadata": {},
   "source": [
    "# Forecasting"
   ]
  },
  {
   "cell_type": "code",
   "execution_count": null,
   "metadata": {},
   "outputs": [],
   "source": [
    "%load_ext autoreload\n",
    "%autoreload 2\n",
    "\n",
    "import pysm\n",
    "from fgbuster.pysm_helpers import get_instrument, get_sky\n",
    "import healpy as hp\n",
    "import numpy as np\n",
    "from fgbuster.cosmology import xForecast\n",
    "\n",
    "nside = 64\n",
    "# define sky and foregrounds simulations\n",
    "sky = pysm.Sky(get_sky(nside, 'd0s0'))\n",
    "# define instrument\n",
    "instrument = pysm.Instrument(get_instrument(nside, 'cmbs4'))\n",
    "# get noiseless frequency maps\n",
    "freq_maps = instrument.observe(sky, write_outputs=False)[0]\n",
    "# take only the Q and U maps\n",
    "freq_maps = freq_maps[:,1:]"
   ]
  },
  {
   "cell_type": "code",
   "execution_count": null,
   "metadata": {},
   "outputs": [],
   "source": [
    "# create 3% circular sky mask\n",
    "RA = 2*np.pi-70.*np.pi/180\n",
    "DEC = np.pi/2+70.*np.pi/180\n",
    "radius = 34*np.pi/180\n",
    "mask_circular = np.zeros(12*nside**2)\n",
    "for ipix in range(12*nside**2):\n",
    "    theta, phi = hp.pix2ang(nside, ipix)\n",
    "    if (((phi - RA)**2 + (theta - DEC)**2 <= radius**2)):\n",
    "        mask_circular[ipix] = 1.0\n",
    "    if (((phi - RA+2*np.pi)**2 + (theta - DEC)**2 <= radius**2)):\n",
    "        mask_circular[ipix] = 1.0\n",
    "# applying mask to observed frequency maps\n",
    "freq_maps[...,mask_circular==0] = 0.0"
   ]
  },
  {
   "cell_type": "code",
   "execution_count": null,
   "metadata": {},
   "outputs": [],
   "source": [
    "# define components used in the modeling\n",
    "from fgbuster.component_model import CMB, Dust, Synchrotron\n",
    "components = [CMB(), Dust(150.), Synchrotron(150.)]"
   ]
  },
  {
   "cell_type": "code",
   "execution_count": null,
   "metadata": {
    "scrolled": true
   },
   "outputs": [],
   "source": [
    "# call for xForecast\n",
    "# with lmin=2, lmax=2*nside-1, and Alens=0.1\n",
    "# you can try with make_figure=True if you want to output angular power spectra and profile likelihood on r\n",
    "res = xForecast(components, instrument, freq_maps, 2, 2*nside-1, Alens=0.1, r=0.001, make_figure=True)"
   ]
  }
 ],
 "metadata": {
  "kernelspec": {
   "display_name": "Python 3",
   "language": "python",
   "name": "python3"
  },
  "language_info": {
   "codemirror_mode": {
    "name": "ipython",
    "version": 3
   },
   "file_extension": ".py",
   "mimetype": "text/x-python",
   "name": "python",
   "nbconvert_exporter": "python",
   "pygments_lexer": "ipython3",
   "version": "3.6.5"
  }
 },
 "nbformat": 4,
 "nbformat_minor": 2
}
