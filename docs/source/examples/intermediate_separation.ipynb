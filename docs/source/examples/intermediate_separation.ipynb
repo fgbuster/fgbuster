{
 "cells": [
  {
   "cell_type": "markdown",
   "metadata": {},
   "source": [
    "# Intermediate component separation"
   ]
  },
  {
   "cell_type": "code",
   "execution_count": null,
   "metadata": {},
   "outputs": [],
   "source": [
    "%load_ext autoreload\n",
    "%autoreload 2\n",
    "%matplotlib inline"
   ]
  },
  {
   "cell_type": "code",
   "execution_count": null,
   "metadata": {},
   "outputs": [],
   "source": [
    "import pylab\n",
    "pylab.rcParams['figure.figsize'] = 12, 16\n",
    "\n",
    "import healpy as hp\n",
    "import pysm\n",
    "\n",
    "from fgbuster.observation_helpers import get_instrument, get_sky  # Predefined instrumental and sky-creation configurations\n",
    "from fgbuster.visualization import corner_norm\n",
    "\n",
    "# Imports needed for component separation\n",
    "from fgbuster import (CMB, Dust, Synchrotron,  # sky-fitting model\n",
    "                      basic_comp_sep)  # separation routine"
   ]
  },
  {
   "cell_type": "markdown",
   "metadata": {},
   "source": [
    "## Input frequency maps\n",
    "You have some frequency maps to clean, they can be either data or simulations."
   ]
  },
  {
   "cell_type": "markdown",
   "metadata": {},
   "source": [
    "### Simple case\n",
    "Let's simulate a simple sky with `pysm`. ForeGroundBuster adds a couple of functions that make the process even easier."
   ]
  },
  {
   "cell_type": "code",
   "execution_count": null,
   "metadata": {},
   "outputs": [],
   "source": [
    "NSIDE = 64\n",
    "sky_conf_simple = get_sky(NSIDE, 'c1d0s0') \n",
    "instrument = pysm.Instrument(get_instrument('cmbs4', NSIDE))\n",
    "freq_maps_simple, noise = instrument.observe(pysm.Sky(sky_conf_simple), write_outputs=False)"
   ]
  },
  {
   "cell_type": "markdown",
   "metadata": {},
   "source": [
    "We will focus on polarization-only component separation"
   ]
  },
  {
   "cell_type": "code",
   "execution_count": null,
   "metadata": {},
   "outputs": [],
   "source": [
    "freq_maps_simple = freq_maps_simple[:, 1:]  # Select polarization"
   ]
  },
  {
   "cell_type": "markdown",
   "metadata": {},
   "source": [
    "### Spatially varying spectral indices\n",
    "Let's prepare also maps with spatially varying spectral indices. Similarly to the simple case above, we run the following (notice `d1s1`)"
   ]
  },
  {
   "cell_type": "code",
   "execution_count": null,
   "metadata": {},
   "outputs": [],
   "source": [
    "NSIDE_PATCH = 8\n",
    "sky_conf_vary = get_sky(NSIDE, 'c1d1s1')"
   ]
  },
  {
   "cell_type": "markdown",
   "metadata": {},
   "source": [
    "We can still modify the sky configuration. In this case, we change the nside over which the spectral indices are allowed to vary"
   ]
  },
  {
   "cell_type": "code",
   "execution_count": null,
   "metadata": {},
   "outputs": [],
   "source": [
    "for comp, param in [('dust', 'spectral_index'),\n",
    "                    ('dust', 'temp'),\n",
    "                    ('synchrotron', 'spectral_index')\n",
    "                   ]:\n",
    "    spectral_param = sky_conf_vary[comp][0][param]\n",
    "    spectral_param[:] = hp.ud_grade(hp.ud_grade(spectral_param, NSIDE_PATCH),\n",
    "                                    NSIDE)"
   ]
  },
  {
   "cell_type": "markdown",
   "metadata": {},
   "source": [
    "Here is how they look like in constant and varying case. The rightmost plot shows the full resolution `pysm` template."
   ]
  },
  {
   "cell_type": "code",
   "execution_count": null,
   "metadata": {},
   "outputs": [],
   "source": [
    "comp = 'dust'\n",
    "param = 'spectral_index'\n",
    "hp.mollview(sky_conf_simple[comp][0][param], sub=(1,3,1), title='Constant index')\n",
    "hp.mollview(sky_conf_vary[comp][0][param], sub=(1,3,2), title='Varying indices')\n",
    "hp.mollview(get_sky(NSIDE, 'c1d1s1')[comp][0][param], sub=(1,3,3), title='Full resolution indices')"
   ]
  },
  {
   "cell_type": "markdown",
   "metadata": {},
   "source": [
    "And now we generate the maps and select polarization"
   ]
  },
  {
   "cell_type": "code",
   "execution_count": null,
   "metadata": {},
   "outputs": [],
   "source": [
    "freq_maps_vary, _ = instrument.observe(pysm.Sky(sky_conf_vary), write_outputs=False)\n",
    "freq_maps_vary = freq_maps_vary[:, 1:] # Select polarization"
   ]
  },
  {
   "cell_type": "markdown",
   "metadata": {},
   "source": [
    "## Component separation\n",
    "The sky model we fit for is defined as a list of `Component` objects. They can be easily build from analytic SEDs, but for popular component types these are already implemented."
   ]
  },
  {
   "cell_type": "code",
   "execution_count": null,
   "metadata": {},
   "outputs": [],
   "source": [
    "components = [CMB(), Dust(353.), Synchrotron(23.)]"
   ]
  },
  {
   "cell_type": "code",
   "execution_count": null,
   "metadata": {},
   "outputs": [],
   "source": [
    "# The starting point of the fit is the pysm default value, so let's shift it\n",
    "components[1].defaults = [1.6, 22.]\n",
    "components[2].defaults = [-2.7]"
   ]
  },
  {
   "cell_type": "markdown",
   "metadata": {},
   "source": [
    "We are now ready to perform the component separation"
   ]
  },
  {
   "cell_type": "code",
   "execution_count": null,
   "metadata": {
    "scrolled": false
   },
   "outputs": [],
   "source": [
    "result = basic_comp_sep(components, instrument, freq_maps_simple,\n",
    "                        options=dict(disp=True),  # verbose output\n",
    "                        )"
   ]
  },
  {
   "cell_type": "markdown",
   "metadata": {},
   "source": [
    "The input spectral parameters are recovered to numerical accuracy"
   ]
  },
  {
   "cell_type": "code",
   "execution_count": null,
   "metadata": {},
   "outputs": [],
   "source": [
    "import numpy as np\n",
    "inputs = [sky_conf_simple[comp][0][param][0]\n",
    "          for comp, param in [('dust', 'spectral_index'),\n",
    "                              ('dust', 'temp'),\n",
    "                              ('synchrotron', 'spectral_index')]\n",
    "         ]\n",
    "print(\"%-20s\\t%s\\t%s\" % ('', 'Estimated', 'Input'))\n",
    "for param, val, ref in zip(result.params, result.x, inputs):\n",
    "    print(\"%-20s\\t%f\\t%f\" % (param, val, ref))"
   ]
  },
  {
   "cell_type": "markdown",
   "metadata": {},
   "source": [
    "Their semi-analytic covariance is also provided, but remember that it is accurate only in the high signal-to-noise regime"
   ]
  },
  {
   "cell_type": "code",
   "execution_count": null,
   "metadata": {},
   "outputs": [],
   "source": [
    "corner_norm(result.x, result.Sigma, labels=result.params, truths=inputs)"
   ]
  },
  {
   "cell_type": "markdown",
   "metadata": {},
   "source": [
    "The amplitudes of the components are stacked in the `s` attribute and they are in the same format of the input frequency maps: Q and U healpix maps, in this case. Here is the U Stokes parameter for each of the components."
   ]
  },
  {
   "cell_type": "code",
   "execution_count": null,
   "metadata": {},
   "outputs": [],
   "source": [
    "hp.mollview(result.s[0,1], title='CMB', sub=(1,3,1))\n",
    "hp.mollview(result.s[1,1], title='Dust', norm='hist', sub=(1,3,2))\n",
    "hp.mollview(result.s[2,1], title='Synchrotron', norm='hist', sub=(1,3,3))"
   ]
  },
  {
   "cell_type": "markdown",
   "metadata": {},
   "source": [
    "By taking the difference with the input template, we see that the error in the reconstruction is negligible."
   ]
  },
  {
   "cell_type": "code",
   "execution_count": null,
   "metadata": {},
   "outputs": [],
   "source": [
    "hp.mollview(result.s[1,1] \n",
    "            - sky_conf_simple['dust'][0]['A_U'] * pysm.convert_units('K_RJ', 'K_CMB', 353.),\n",
    "            title='Dust', norm='hist', sub=(1,2,1))\n",
    "hp.mollview(result.s[2,1] \n",
    "            - sky_conf_simple['synchrotron'][0]['A_U'] * pysm.convert_units('K_RJ', 'K_CMB', 23.), \n",
    "            title='Synchrotron', norm='hist', sub=(1,2,2))"
   ]
  },
  {
   "cell_type": "markdown",
   "metadata": {},
   "source": [
    "## Component separation with varying indices\n",
    "We now fit the spectral parameters independently over patches corresponding to healpix pixels with a given nside"
   ]
  },
  {
   "cell_type": "code",
   "execution_count": null,
   "metadata": {
    "scrolled": true
   },
   "outputs": [],
   "source": [
    "nside_fit = NSIDE_PATCH\n",
    "result_vary = basic_comp_sep(components, instrument, freq_maps_vary, nside_fit)"
   ]
  },
  {
   "cell_type": "markdown",
   "metadata": {},
   "source": [
    "As in the previous case, the amplitudes of the components are stacked in the `s`."
   ]
  },
  {
   "cell_type": "code",
   "execution_count": null,
   "metadata": {
    "scrolled": true
   },
   "outputs": [],
   "source": [
    "hp.mollview(result_vary.s[0,1], title='CMB', sub=(1,3,1))\n",
    "hp.mollview(result_vary.s[1,1], title='Dust', norm='hist', sub=(1,3,2))\n",
    "hp.mollview(result_vary.s[2,1], title='Synchrotron', norm='hist', sub=(1,3,3))"
   ]
  },
  {
   "cell_type": "markdown",
   "metadata": {},
   "source": [
    "When we take the difference with the input templates, the residuals are patchy. This is because the independent fit of the non-liner parameters has a different level of numerical accuracy for different patches. However, note that in all cases residuals are negligible: also this multi-patch cleaning has very high accuracy. "
   ]
  },
  {
   "cell_type": "code",
   "execution_count": null,
   "metadata": {},
   "outputs": [],
   "source": [
    "hp.mollview(result_vary.s[1,1] - \n",
    "            sky_conf_vary['dust'][0]['A_U'] * pysm.convert_units('K_RJ', 'K_CMB', 353.),\n",
    "            title='Dust', norm='hist', sub=(1,2,1))\n",
    "hp.mollview(result_vary.s[2,1] - \n",
    "            sky_conf_vary['synchrotron'][0]['A_U'] * pysm.convert_units('K_RJ', 'K_CMB', 23.), \n",
    "            title='Synchrotron', norm='hist', sub=(1,2,2))"
   ]
  },
  {
   "cell_type": "markdown",
   "metadata": {},
   "source": [
    "The same is true for the non-linear parameters. Here are their reconstructed maps."
   ]
  },
  {
   "cell_type": "code",
   "execution_count": null,
   "metadata": {
    "scrolled": true
   },
   "outputs": [],
   "source": [
    "for i, par in enumerate(result.params):\n",
    "    hp.mollview(result_vary.x[i], title=par, sub=(1,3,i+1))"
   ]
  },
  {
   "cell_type": "markdown",
   "metadata": {},
   "source": [
    "And here is the difference with the input templates."
   ]
  },
  {
   "cell_type": "code",
   "execution_count": null,
   "metadata": {
    "scrolled": false
   },
   "outputs": [],
   "source": [
    "hp.mollview(hp.ud_grade(result_vary.x[0], NSIDE) - \n",
    "            sky_conf_vary['dust'][0]['spectral_index'],\n",
    "            title=result.params[0], norm='hist', sub=(1,3,1))\n",
    "hp.mollview(hp.ud_grade(result_vary.x[1], NSIDE) - \n",
    "            sky_conf_vary['dust'][0]['temp'],\n",
    "            title=result.params[1], norm='hist', sub=(1,3,2))\n",
    "hp.mollview(hp.ud_grade(result_vary.x[2], NSIDE) - \n",
    "            sky_conf_vary['synchrotron'][0]['spectral_index'],\n",
    "            title=result.params[2], norm='hist', sub=(1,3,3))"
   ]
  }
 ],
 "metadata": {},
 "nbformat": 4,
 "nbformat_minor": 2
}
